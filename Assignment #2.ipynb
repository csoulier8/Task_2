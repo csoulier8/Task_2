{
 "cells": [
  {
   "cell_type": "markdown",
   "metadata": {},
   "source": [
    "# Title: Does America Favor Smarts or Cuteness in Dog Breeds Based on Intelligence and \"Cuteness\" Scores, and Popularity Rankings in 2014"
   ]
  },
  {
   "cell_type": "markdown",
   "metadata": {},
   "source": [
    "# Introduction"
   ]
  },
  {
   "cell_type": "markdown",
   "metadata": {},
   "source": [
    "Humans domesticated dogs an estimated 10,000 to 12,000 years ago and have been selecting for traits within the Canis Lupis Familiaris species approximately since that time (Scott 1968). Dog breeds have been created and modified to meet a range of anthropogenic needs, including anything from protection and herding cattle to keeping ancient emperors' hands and feet warm. All dog breeds share 98% of the same DNA, but the specific characteristics of each breed are only controlled by the expression of 6 different genes (Vaysse et al 2011). These genes are what account for the differences in height, size, head shape, ear type, and other physical variations amongst breeds that humans have selected for throughout time. Modern dog breeds must meet certain qualifications, physical, and genetic standards to be considered unique \"breeds.\" The standards and registration of these breeds are kept track of by organizations such as the American Kennel Club (AKC). \n",
    "\n",
    "The modern dog often serves the purpose of a household pet and companion, rather than the work that they were originally bred to do. Dogs have become common commodities and the market for the sale of purebred dogs is very large in the Western World. Just in the USA, over 63 million households own at least one dog (APPA 2019). Different dog breeds are more popular than others. Since the majority of breeding in modern times has been for the purpose of creating family pets, this has caused breeders to select for genes that align with what the majority of people are looking for in a dog. \n",
    "\n",
    "This study aims to understand the variables that are driving popularity of different dog breeds in the US, and what traits may be favored over others. More specifically, we are asking: Is Intelligence or Favorable Looks (\"Cuteness\") more desired by Americans in picking a dog breed? Data was pulled from \"Best in show\" data from the Book \"Knowledge is Beautiful\" by David McCandless. This data included a compilation of all of the unique AKC's registered breeds in 2014 along with corresponding popularity ranks, intelligence scores, and subjective \"Cuteness\" ratings. These quanitative scores were compared with popularity ranks and analyzed to understand if there was a relationship between popularity and Cuteness and Intelligence Scores. It is expected that there will be a positive correlation between both scores and Popularity Rankings. "
   ]
  },
  {
   "cell_type": "markdown",
   "metadata": {},
   "source": [
    "# Methods and Results"
   ]
  },
  {
   "cell_type": "markdown",
   "metadata": {},
   "source": [
    "Data were aquired from https://informationisbeautiful.net/visualizations/best-in-show-whats-the-top-data-dog and modified to include relevant data columns from a downloaded csv file by author. \n"
   ]
  },
  {
   "cell_type": "code",
   "execution_count": 5,
   "metadata": {},
   "outputs": [
    {
     "data": {
      "text/html": [
       "<table>\n",
       "<caption>A data.frame: 6 × 4</caption>\n",
       "<thead>\n",
       "\t<tr><th></th><th scope=col>Dog.breed</th><th scope=col>Popularity</th><th scope=col>Intelligence</th><th scope=col>Cuteness</th></tr>\n",
       "\t<tr><th></th><th scope=col>&lt;fct&gt;</th><th scope=col>&lt;int&gt;</th><th scope=col>&lt;int&gt;</th><th scope=col>&lt;int&gt;</th></tr>\n",
       "</thead>\n",
       "<tbody>\n",
       "\t<tr><th scope=row>1</th><td>Affenpinscher    </td><td>139</td><td>37</td><td>4</td></tr>\n",
       "\t<tr><th scope=row>2</th><td>Afghan Hound     </td><td> 88</td><td>80</td><td>2</td></tr>\n",
       "\t<tr><th scope=row>3</th><td>Airedale Terrier </td><td> 55</td><td>29</td><td>4</td></tr>\n",
       "\t<tr><th scope=row>4</th><td>Akita            </td><td> 47</td><td>54</td><td>2</td></tr>\n",
       "\t<tr><th scope=row>5</th><td>Alaskan Malamute </td><td> 58</td><td>50</td><td>3</td></tr>\n",
       "\t<tr><th scope=row>8</th><td>American Foxhound</td><td>173</td><td>46</td><td>3</td></tr>\n",
       "</tbody>\n",
       "</table>\n"
      ],
      "text/latex": [
       "A data.frame: 6 × 4\n",
       "\\begin{tabular}{r|llll}\n",
       "  & Dog.breed & Popularity & Intelligence & Cuteness\\\\\n",
       "  & <fct> & <int> & <int> & <int>\\\\\n",
       "\\hline\n",
       "\t1 & Affenpinscher     & 139 & 37 & 4\\\\\n",
       "\t2 & Afghan Hound      &  88 & 80 & 2\\\\\n",
       "\t3 & Airedale Terrier  &  55 & 29 & 4\\\\\n",
       "\t4 & Akita             &  47 & 54 & 2\\\\\n",
       "\t5 & Alaskan Malamute  &  58 & 50 & 3\\\\\n",
       "\t8 & American Foxhound & 173 & 46 & 3\\\\\n",
       "\\end{tabular}\n"
      ],
      "text/markdown": [
       "\n",
       "A data.frame: 6 × 4\n",
       "\n",
       "| <!--/--> | Dog.breed &lt;fct&gt; | Popularity &lt;int&gt; | Intelligence &lt;int&gt; | Cuteness &lt;int&gt; |\n",
       "|---|---|---|---|---|\n",
       "| 1 | Affenpinscher     | 139 | 37 | 4 |\n",
       "| 2 | Afghan Hound      |  88 | 80 | 2 |\n",
       "| 3 | Airedale Terrier  |  55 | 29 | 4 |\n",
       "| 4 | Akita             |  47 | 54 | 2 |\n",
       "| 5 | Alaskan Malamute  |  58 | 50 | 3 |\n",
       "| 8 | American Foxhound | 173 | 46 | 3 |\n",
       "\n"
      ],
      "text/plain": [
       "  Dog.breed         Popularity Intelligence Cuteness\n",
       "1 Affenpinscher     139        37           4       \n",
       "2 Afghan Hound       88        80           2       \n",
       "3 Airedale Terrier   55        29           4       \n",
       "4 Akita              47        54           2       \n",
       "5 Alaskan Malamute   58        50           3       \n",
       "8 American Foxhound 173        46           3       "
      ]
     },
     "metadata": {},
     "output_type": "display_data"
    }
   ],
   "source": [
    "#data then uploaded to jupyter hub\n",
    "data=na.omit(read.csv(\"Dog_Data_CS5.csv\"))\n",
    "head(data)"
   ]
  },
  {
   "cell_type": "code",
   "execution_count": null,
   "metadata": {},
   "outputs": [],
   "source": []
  },
  {
   "cell_type": "code",
   "execution_count": 6,
   "metadata": {},
   "outputs": [
    {
     "data": {
      "text/html": [
       "<table>\n",
       "<caption>A data.frame: 1 × 4</caption>\n",
       "<thead>\n",
       "\t<tr><th></th><th scope=col>Dog.breed</th><th scope=col>Popularity</th><th scope=col>Intelligence</th><th scope=col>Cuteness</th></tr>\n",
       "\t<tr><th></th><th scope=col>&lt;fct&gt;</th><th scope=col>&lt;int&gt;</th><th scope=col>&lt;int&gt;</th><th scope=col>&lt;int&gt;</th></tr>\n",
       "</thead>\n",
       "<tbody>\n",
       "\t<tr><th scope=row>8</th><td>American Foxhound</td><td>173</td><td>46</td><td>3</td></tr>\n",
       "</tbody>\n",
       "</table>\n"
      ],
      "text/latex": [
       "A data.frame: 1 × 4\n",
       "\\begin{tabular}{r|llll}\n",
       "  & Dog.breed & Popularity & Intelligence & Cuteness\\\\\n",
       "  & <fct> & <int> & <int> & <int>\\\\\n",
       "\\hline\n",
       "\t8 & American Foxhound & 173 & 46 & 3\\\\\n",
       "\\end{tabular}\n"
      ],
      "text/markdown": [
       "\n",
       "A data.frame: 1 × 4\n",
       "\n",
       "| <!--/--> | Dog.breed &lt;fct&gt; | Popularity &lt;int&gt; | Intelligence &lt;int&gt; | Cuteness &lt;int&gt; |\n",
       "|---|---|---|---|---|\n",
       "| 8 | American Foxhound | 173 | 46 | 3 |\n",
       "\n"
      ],
      "text/plain": [
       "  Dog.breed         Popularity Intelligence Cuteness\n",
       "8 American Foxhound 173        46           3       "
      ]
     },
     "metadata": {},
     "output_type": "display_data"
    }
   ],
   "source": [
    "#Least Popular Dog's Intelligence and Cuteness Rating was found to provide an example of the Intelligence and cuteness scores for the least popular dog breed and provide a baseline for comparison. This was done by indexing the Popularity column from the uploaded csv file. \n",
    "leastpop=data[data$Popularity==173, ,]\n",
    "leastpop"
   ]
  },
  {
   "cell_type": "code",
   "execution_count": 7,
   "metadata": {},
   "outputs": [
    {
     "data": {
      "text/html": [
       "<table>\n",
       "<caption>A data.frame: 1 × 4</caption>\n",
       "<thead>\n",
       "\t<tr><th></th><th scope=col>Dog.breed</th><th scope=col>Popularity</th><th scope=col>Intelligence</th><th scope=col>Cuteness</th></tr>\n",
       "\t<tr><th></th><th scope=col>&lt;fct&gt;</th><th scope=col>&lt;int&gt;</th><th scope=col>&lt;int&gt;</th><th scope=col>&lt;int&gt;</th></tr>\n",
       "</thead>\n",
       "<tbody>\n",
       "\t<tr><th scope=row>100</th><td>Labrador Retriever</td><td>1</td><td>7</td><td>4</td></tr>\n",
       "</tbody>\n",
       "</table>\n"
      ],
      "text/latex": [
       "A data.frame: 1 × 4\n",
       "\\begin{tabular}{r|llll}\n",
       "  & Dog.breed & Popularity & Intelligence & Cuteness\\\\\n",
       "  & <fct> & <int> & <int> & <int>\\\\\n",
       "\\hline\n",
       "\t100 & Labrador Retriever & 1 & 7 & 4\\\\\n",
       "\\end{tabular}\n"
      ],
      "text/markdown": [
       "\n",
       "A data.frame: 1 × 4\n",
       "\n",
       "| <!--/--> | Dog.breed &lt;fct&gt; | Popularity &lt;int&gt; | Intelligence &lt;int&gt; | Cuteness &lt;int&gt; |\n",
       "|---|---|---|---|---|\n",
       "| 100 | Labrador Retriever | 1 | 7 | 4 |\n",
       "\n"
      ],
      "text/plain": [
       "    Dog.breed          Popularity Intelligence Cuteness\n",
       "100 Labrador Retriever 1          7            4       "
      ]
     },
     "metadata": {},
     "output_type": "display_data"
    }
   ],
   "source": [
    "#Most Popular Dog's Intelligence and Cuteness Rating was found to provide an example of the Intelligence and cuteness scores for the most popular dog breed and provide a baseline for comparison. This was done by indexing the Popularity column from the uploaded csv file.  \n",
    "mostpop=data[data$Popularity==1, ,]\n",
    "mostpop"
   ]
  },
  {
   "cell_type": "code",
   "execution_count": 8,
   "metadata": {},
   "outputs": [
    {
     "data": {
      "text/html": [
       "3.65151515151515"
      ],
      "text/latex": [
       "3.65151515151515"
      ],
      "text/markdown": [
       "3.65151515151515"
      ],
      "text/plain": [
       "[1] 3.651515"
      ]
     },
     "metadata": {},
     "output_type": "display_data"
    },
    {
     "data": {
      "text/html": [
       "40.9242424242424"
      ],
      "text/latex": [
       "40.9242424242424"
      ],
      "text/markdown": [
       "40.9242424242424"
      ],
      "text/plain": [
       "[1] 40.92424"
      ]
     },
     "metadata": {},
     "output_type": "display_data"
    }
   ],
   "source": [
    "#Average (Mean) Cuteness,and Intelligence Ratings were calulated in order to provide an understanding of the distribution of the data. \n",
    "avgcute=mean(data$Cuteness)\n",
    "avgcute\n",
    "avgint=mean(data$Intelligence)\n",
    "avgint"
   ]
  },
  {
   "cell_type": "code",
   "execution_count": null,
   "metadata": {},
   "outputs": [],
   "source": []
  },
  {
   "cell_type": "code",
   "execution_count": null,
   "metadata": {},
   "outputs": [],
   "source": []
  },
  {
   "cell_type": "code",
   "execution_count": 10,
   "metadata": {},
   "outputs": [],
   "source": [
    "library(ggplot2)"
   ]
  },
  {
   "cell_type": "code",
   "execution_count": 11,
   "metadata": {},
   "outputs": [
    {
     "data": {
      "image/png": "[encoded data removed]",
      "text/plain": [
       "plot without title"
      ]
     },
     "metadata": {
      "image/png": {
       "height": 420,
       "width": 420
      },
      "text/plain": {
       "height": 420,
       "width": 420
      }
     },
     "output_type": "display_data"
    }
   ],
   "source": [
    "#Plot of Popularity Rank of Each Breed in order of most popular (1) to least popular (173) versus its respective Intelligence Score between 1-80.  \n",
    "ggplot(data=data, aes(x=Popularity, y=Intelligence)) +\n",
    "  geom_bar(stat=\"identity\") "
   ]
  },
  {
   "cell_type": "markdown",
   "metadata": {},
   "source": [
    "Figure 1 Plot of Intelligence Scores (1=least intelligent to 6=most intelligent) against popularity of each of the 173 AKC registered dog breeds in 2014."
   ]
  },
  {
   "cell_type": "code",
   "execution_count": 13,
   "metadata": {},
   "outputs": [
    {
     "data": {
      "image/png": "[encoded data removed]",
      "text/plain": [
       "plot without title"
      ]
     },
     "metadata": {
      "image/png": {
       "height": 420,
       "width": 420
      },
      "text/plain": {
       "height": 420,
       "width": 420
      }
     },
     "output_type": "display_data"
    }
   ],
   "source": [
    "#Plot of Popularity Rank of Each Breed in order of Popularity (1= most popular, 173=least popular) versus its respective \"Cuteness\" Score of 1-6 \n",
    "\n",
    "ggplot(data=data, aes(x=Popularity, y=Cuteness)) +\n",
    "  geom_bar(stat=\"identity\")"
   ]
  },
  {
   "cell_type": "markdown",
   "metadata": {},
   "source": [
    "Figure 2 Plot of Cuteness Scores (1=ugly to 6=most cute) against popularity of each of the 173 AKC registered dog breeds in 2014."
   ]
  },
  {
   "cell_type": "code",
   "execution_count": 53,
   "metadata": {},
   "outputs": [
    {
     "data": {
      "text/plain": [
       "\n",
       "\tPearson's product-moment correlation\n",
       "\n",
       "data:  data$Popularity and data$Intelligence\n",
       "t = 1.5133, df = 130, p-value = 0.1326\n",
       "alternative hypothesis: true correlation is not equal to 0\n",
       "95 percent confidence interval:\n",
       " -0.04020743  0.29579154\n",
       "sample estimates:\n",
       "      cor \n",
       "0.1315689 \n"
      ]
     },
     "metadata": {},
     "output_type": "display_data"
    }
   ],
   "source": [
    "#A Pearson's test of correlation was used in order to understand if a realtionship exists between the variables exists and how strong that realtionship may be. In the Pearson test confidence intervals and a final p value are used to understand if the variables have a linear relationship. \n",
    "#Correlation and Confidence Intervals between Popularity and Intelligence rankings. A p-value<0.05 was considered to be statistically significant.  \n",
    "cor.test(data$Popularity, data$Intelligence, method= c(\"pearson\"))"
   ]
  },
  {
   "cell_type": "code",
   "execution_count": 54,
   "metadata": {
    "scrolled": true
   },
   "outputs": [
    {
     "data": {
      "text/plain": [
       "\n",
       "\tPearson's product-moment correlation\n",
       "\n",
       "data:  data$Popularity and data$Cuteness\n",
       "t = -0.99578, df = 130, p-value = 0.3212\n",
       "alternative hypothesis: true correlation is not equal to 0\n",
       "95 percent confidence interval:\n",
       " -0.25409945  0.08513347\n",
       "sample estimates:\n",
       "        cor \n",
       "-0.08700463 \n"
      ]
     },
     "metadata": {},
     "output_type": "display_data"
    }
   ],
   "source": [
    "#Correlation and Confidence Intervals between Popularity and Cuteness rankings. \n",
    "#Correlation and Confidence Intervals between Popularity and Intelligence rankings. A p-value<0.05 was considered to be statistically significant.  \n",
    "cor.test(data$Popularity, data$Cuteness, method= c(\"pearson\"))"
   ]
  },
  {
   "cell_type": "markdown",
   "metadata": {},
   "source": [
    "# Discussion "
   ]
  },
  {
   "attachments": {},
   "cell_type": "markdown",
   "metadata": {},
   "source": [
    "Neither intelligence nor Cuteness scores had any statistically significant correlation with Popularity Rankings in 2014. A P-value of less than 0.05 was considered to be significant in these analyses. The p-values of 0.113 and 0.3212 for intelligence and cuteness respectively are above 0.05 and therefore are not stastically correlated to Popularity. Ghirlanda et al (2013) found similar results when considering popularity fluctuations of breeds from 1926 to 2005, finding no association between popularity and breed characteristics. They suggested that breed popularity to be a culturally associated phenomenon and breed preference to be a function of what is \"in fashion\" at the time, rather than due to the traits of the breed itself. The results of this study supports this postulation.\n",
    "\n",
    "Despite there being no statistically significant relationship, in both intelligence and cuteness scores, the highest scores for both traits appear only in the first 100 most popular breeds. This may indicate some selectivity of intelligence and favorable looks when picking a dog breed (Figures 1 and 2). \n",
    "\n",
    "When looking at the two ends of the spectrum of popularity, some insight can be gained. The Labrador retriever was the most popular dog in America in 2014, where it has continued to retain this ranking for over 28 years as of 2019 (Tribune 2019). The lab only had an intelligence score of 7 and a cuteness score of 4, while the least popular dog, the American fox terrier, had a significantly higher intelligence score of 46 and only 1 cuteness score lower than the lab. The lab's low intelligence and comparably mediocre cuteness score compared to the average at 3.65 begs the question why this breed has remained so popular for so long. Intelligence and cuteness were picked as variable in this study because they were deemed the most likely traits that Americans would pay attention to when choosing a family pet. However, the results of this study did not support the hypothesis that these traits would both have a positive correlation with popularity. Future research should be done to understand if other traits such as longevity, personality, or size have any association with breed popularity. \n",
    "\n",
    "The results of this study and other studies looking at breed popularity suggest that popularity may be random and more closely associated with the cultural norms and preferences of the time rather than breed characteristics. Since humans are responsible for the genetic and physical variations in this species it is important to understand what is driving selection of traits for this species and how to best manage breeding practices. Further, the transition of dog's position in society from working alongside humans to becoming commodities that are profitable and trendy is important to document as we continue to modify the species' gene pool based off of our own cultural preferences. \n",
    "\n",
    "\n"
   ]
  },
  {
   "cell_type": "markdown",
   "metadata": {},
   "source": [
    "# References "
   ]
  },
  {
   "cell_type": "markdown",
   "metadata": {},
   "source": [
    "https://www.chicagotribune.com/ct-met-top-dogs-puppy-lab-akc-20190323-story.html\n",
    "\n",
    "https://journals.plos.org/plosone/article?id=10.1371/journal.pone.0074770\n",
    "\n",
    "https://link.springer.com/chapter/10.1007/978-1-4684-8094-8_6\n",
    "\n",
    "https://journals.plos.org/plosgenetics/article?id=10.1371/journal.pgen.1002316\n",
    "\n",
    "https://www.americanpetproducts.org/press_industrytrends.asp\n",
    "\n",
    "\n",
    "\n"
   ]
  },
  {
   "cell_type": "code",
   "execution_count": 16,
   "metadata": {},
   "outputs": [],
   "source": []
  },
  {
   "cell_type": "code",
   "execution_count": null,
   "metadata": {},
   "outputs": [],
   "source": []
  },
  {
   "cell_type": "code",
   "execution_count": null,
   "metadata": {},
   "outputs": [],
   "source": []
  },
  {
   "cell_type": "code",
   "execution_count": null,
   "metadata": {},
   "outputs": [],
   "source": []
  },
  {
   "cell_type": "code",
   "execution_count": null,
   "metadata": {},
   "outputs": [],
   "source": [
    "\n"
   ]
  },
  {
   "cell_type": "code",
   "execution_count": null,
   "metadata": {},
   "outputs": [],
   "source": []
  },
  {
   "cell_type": "code",
   "execution_count": null,
   "metadata": {},
   "outputs": [],
   "source": []
  },
  {
   "cell_type": "code",
   "execution_count": null,
   "metadata": {},
   "outputs": [],
   "source": []
  },
  {
   "cell_type": "code",
   "execution_count": null,
   "metadata": {},
   "outputs": [],
   "source": [
    "\n"
   ]
  },
  {
   "cell_type": "code",
   "execution_count": null,
   "metadata": {},
   "outputs": [],
   "source": []
  },
  {
   "cell_type": "code",
   "execution_count": null,
   "metadata": {},
   "outputs": [],
   "source": []
  }
 ],
 "metadata": {
  "kernelspec": {
   "display_name": "R",
   "language": "R",
   "name": "ir"
  },
  "language_info": {
   "codemirror_mode": "r",
   "file_extension": ".r",
   "mimetype": "text/x-r-source",
   "name": "R",
   "pygments_lexer": "r",
   "version": "3.4.4"
  }
 },
 "nbformat": 4,
 "nbformat_minor": 2
}
